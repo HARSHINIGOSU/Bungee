{
  "nbformat": 4,
  "nbformat_minor": 0,
  "metadata": {
    "colab": {
      "name": "answer1.ipynb",
      "provenance": []
    },
    "kernelspec": {
      "name": "python3",
      "display_name": "Python 3"
    },
    "language_info": {
      "name": "python"
    }
  },
  "cells": [
    {
      "cell_type": "code",
      "metadata": {
        "id": "ltZEpkwyhk4C"
      },
      "source": [
        "import pandas as pd\n",
        " \n"
      ],
      "execution_count": 70,
      "outputs": []
    },
    {
      "cell_type": "code",
      "metadata": {
        "colab": {
          "base_uri": "https://localhost:8080/"
        },
        "id": "ggYEbJOIjDpf",
        "outputId": "d27bbf7b-3f78-4cb2-99b1-ae15168e90e0"
      },
      "source": [
        "url = 'https://github.com/HARSHINIGOSU/internship-test2/blob/c29b4ed53eca28202157220d197e66c4ecf9e9ff/input/question-1/main.csv?raw=true'\n",
        "df = pd.read_csv(url)\n",
        "print(df.head())\n"
      ],
      "execution_count": 72,
      "outputs": [
        {
          "output_type": "stream",
          "name": "stdout",
          "text": [
            "   Year  Population    Total  ...  Burglary  Larceny_Theft  Vehicle_Theft\n",
            "0  1960   179323175  3384200  ...    912100        1855400         328200\n",
            "1  1961   182992000  3488000  ...    949600        1913000         336000\n",
            "2  1962   185771000  3752200  ...    994300        2089600         366800\n",
            "3  1963   188483000  4109500  ...   1086400        2297800         408300\n",
            "4  1964   191141000  4564600  ...   1213200        2514400         472800\n",
            "\n",
            "[5 rows x 12 columns]\n"
          ]
        }
      ]
    },
    {
      "cell_type": "code",
      "metadata": {
        "colab": {
          "base_uri": "https://localhost:8080/"
        },
        "id": "YmuxQu5rnxdR",
        "outputId": "c7d548bf-d6c9-48b7-bbc2-b4a36237fc31"
      },
      "source": [
        "decades = df.groupby((df.Year//10)*10).sum()\n",
        "print(decades)"
      ],
      "execution_count": 73,
      "outputs": [
        {
          "output_type": "stream",
          "name": "stdout",
          "text": [
            "       Year  Population      Total  ...  Burglary  Larceny_Theft  Vehicle_Theft\n",
            "Year                                ...                                        \n",
            "1960  19645  1915053175   49295900  ...  13321100       26547700        5292100\n",
            "1970  19745  2121193298  100991600  ...  28486000       53157800        9739900\n",
            "1980  19845  2371370069  131123369  ...  33073494       72040253       11935411\n",
            "1990  19945  2612825258  136582146  ...  26750015       77679366       14624418\n",
            "2000  20045  2947969117  115012044  ...  21565176       67970291       11412834\n",
            "2010  10060  1570146307   50167967  ...  10125170       30401698        3569080\n",
            "\n",
            "[6 rows x 12 columns]\n"
          ]
        }
      ]
    },
    {
      "cell_type": "code",
      "metadata": {
        "id": "FH1DcEP65D6l"
      },
      "source": [
        ""
      ],
      "execution_count": null,
      "outputs": []
    }
  ]
}
